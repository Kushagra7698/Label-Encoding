{
 "cells": [
  {
   "cell_type": "markdown",
   "id": "54ebc803",
   "metadata": {},
   "source": [
    "# Label Encoding"
   ]
  },
  {
   "cell_type": "markdown",
   "id": "5e656050",
   "metadata": {},
   "source": [
    "Label encoding coverts each value in a categorical column into numerical value. Each value in categorical column is called Label.\n",
    "\n",
    "Label encoding is used when we have data that have levels such as Low, Medium, High, First, Second, Third etc."
   ]
  },
  {
   "cell_type": "markdown",
   "id": "fa359c51",
   "metadata": {},
   "source": [
    "### Importing the libraries"
   ]
  },
  {
   "cell_type": "code",
   "execution_count": 1,
   "id": "69de7058",
   "metadata": {},
   "outputs": [],
   "source": [
    "import numpy as np\n",
    "import pandas as pd"
   ]
  },
  {
   "cell_type": "markdown",
   "id": "f0e12018",
   "metadata": {},
   "source": [
    "### Creating dictionary"
   ]
  },
  {
   "cell_type": "code",
   "execution_count": 2,
   "id": "8bb0c109",
   "metadata": {},
   "outputs": [],
   "source": [
    "data = {\"Name\":[\"Kushagra\", \"Shubham\", \"Ashish\", \"Hitesh\", \"Agniva\", \"Joy\", \"Sumit\", \"Kuldeep\", \"Chinmay\", \"Satya\"], \n",
    "        \"Proficiency\": [\"High\", \"Medium\", \"Low\", \"Medium\", \"High\", \"High\", \"Low\", \"Low\", \"Medium\", \"Low\"], \n",
    "       \"Skills\": [\"Advanced\", \"Basic\", \"Basic\", \"Intermediate\", \"Basic\", \"Intermediate\", \"Intermediate\", \"Advanced\", \"Intermediate\", \"Advanced\"]}"
   ]
  },
  {
   "cell_type": "markdown",
   "id": "07d24734",
   "metadata": {},
   "source": [
    "### Creating a dataframe from dictionary"
   ]
  },
  {
   "cell_type": "code",
   "execution_count": 3,
   "id": "99d93df7",
   "metadata": {},
   "outputs": [
    {
     "data": {
      "text/html": [
       "<div>\n",
       "<style scoped>\n",
       "    .dataframe tbody tr th:only-of-type {\n",
       "        vertical-align: middle;\n",
       "    }\n",
       "\n",
       "    .dataframe tbody tr th {\n",
       "        vertical-align: top;\n",
       "    }\n",
       "\n",
       "    .dataframe thead th {\n",
       "        text-align: right;\n",
       "    }\n",
       "</style>\n",
       "<table border=\"1\" class=\"dataframe\">\n",
       "  <thead>\n",
       "    <tr style=\"text-align: right;\">\n",
       "      <th></th>\n",
       "      <th>Name</th>\n",
       "      <th>Proficiency</th>\n",
       "      <th>Skills</th>\n",
       "    </tr>\n",
       "  </thead>\n",
       "  <tbody>\n",
       "    <tr>\n",
       "      <th>0</th>\n",
       "      <td>Kushagra</td>\n",
       "      <td>High</td>\n",
       "      <td>Advanced</td>\n",
       "    </tr>\n",
       "    <tr>\n",
       "      <th>1</th>\n",
       "      <td>Shubham</td>\n",
       "      <td>Medium</td>\n",
       "      <td>Basic</td>\n",
       "    </tr>\n",
       "    <tr>\n",
       "      <th>2</th>\n",
       "      <td>Ashish</td>\n",
       "      <td>Low</td>\n",
       "      <td>Basic</td>\n",
       "    </tr>\n",
       "    <tr>\n",
       "      <th>3</th>\n",
       "      <td>Hitesh</td>\n",
       "      <td>Medium</td>\n",
       "      <td>Intermediate</td>\n",
       "    </tr>\n",
       "    <tr>\n",
       "      <th>4</th>\n",
       "      <td>Agniva</td>\n",
       "      <td>High</td>\n",
       "      <td>Basic</td>\n",
       "    </tr>\n",
       "    <tr>\n",
       "      <th>5</th>\n",
       "      <td>Joy</td>\n",
       "      <td>High</td>\n",
       "      <td>Intermediate</td>\n",
       "    </tr>\n",
       "    <tr>\n",
       "      <th>6</th>\n",
       "      <td>Sumit</td>\n",
       "      <td>Low</td>\n",
       "      <td>Intermediate</td>\n",
       "    </tr>\n",
       "    <tr>\n",
       "      <th>7</th>\n",
       "      <td>Kuldeep</td>\n",
       "      <td>Low</td>\n",
       "      <td>Advanced</td>\n",
       "    </tr>\n",
       "    <tr>\n",
       "      <th>8</th>\n",
       "      <td>Chinmay</td>\n",
       "      <td>Medium</td>\n",
       "      <td>Intermediate</td>\n",
       "    </tr>\n",
       "    <tr>\n",
       "      <th>9</th>\n",
       "      <td>Satya</td>\n",
       "      <td>Low</td>\n",
       "      <td>Advanced</td>\n",
       "    </tr>\n",
       "  </tbody>\n",
       "</table>\n",
       "</div>"
      ],
      "text/plain": [
       "       Name Proficiency        Skills\n",
       "0  Kushagra        High      Advanced\n",
       "1   Shubham      Medium         Basic\n",
       "2    Ashish         Low         Basic\n",
       "3    Hitesh      Medium  Intermediate\n",
       "4    Agniva        High         Basic\n",
       "5       Joy        High  Intermediate\n",
       "6     Sumit         Low  Intermediate\n",
       "7   Kuldeep         Low      Advanced\n",
       "8   Chinmay      Medium  Intermediate\n",
       "9     Satya         Low      Advanced"
      ]
     },
     "execution_count": 3,
     "metadata": {},
     "output_type": "execute_result"
    }
   ],
   "source": [
    "df = pd.DataFrame(data)\n",
    "df"
   ]
  },
  {
   "cell_type": "markdown",
   "id": "a43a8f9c",
   "metadata": {},
   "source": [
    "Now, I have created the dataframe, Let's perform the label encoding to convert the string columns (Proficiency and Skills) to the numeric columns based on levels so that the data can be used further for modeling."
   ]
  },
  {
   "cell_type": "markdown",
   "id": "96d7dd8b",
   "metadata": {},
   "source": [
    "### Importing libraries to use LabelEncoder()"
   ]
  },
  {
   "cell_type": "code",
   "execution_count": 4,
   "id": "0bc7f412",
   "metadata": {},
   "outputs": [],
   "source": [
    "from sklearn.preprocessing import LabelEncoder\n",
    "encoder = LabelEncoder()"
   ]
  },
  {
   "cell_type": "code",
   "execution_count": 5,
   "id": "808aa654",
   "metadata": {},
   "outputs": [],
   "source": [
    "df[\"Proficiency\"] = encoder.fit_transform(df[\"Proficiency\"])"
   ]
  },
  {
   "cell_type": "code",
   "execution_count": 6,
   "id": "604dcea3",
   "metadata": {},
   "outputs": [],
   "source": [
    "df[\"Skills\"] = encoder.fit_transform(df[\"Skills\"])"
   ]
  },
  {
   "cell_type": "code",
   "execution_count": 7,
   "id": "eca15c6d",
   "metadata": {},
   "outputs": [
    {
     "data": {
      "text/html": [
       "<div>\n",
       "<style scoped>\n",
       "    .dataframe tbody tr th:only-of-type {\n",
       "        vertical-align: middle;\n",
       "    }\n",
       "\n",
       "    .dataframe tbody tr th {\n",
       "        vertical-align: top;\n",
       "    }\n",
       "\n",
       "    .dataframe thead th {\n",
       "        text-align: right;\n",
       "    }\n",
       "</style>\n",
       "<table border=\"1\" class=\"dataframe\">\n",
       "  <thead>\n",
       "    <tr style=\"text-align: right;\">\n",
       "      <th></th>\n",
       "      <th>Name</th>\n",
       "      <th>Proficiency</th>\n",
       "      <th>Skills</th>\n",
       "    </tr>\n",
       "  </thead>\n",
       "  <tbody>\n",
       "    <tr>\n",
       "      <th>0</th>\n",
       "      <td>Kushagra</td>\n",
       "      <td>0</td>\n",
       "      <td>0</td>\n",
       "    </tr>\n",
       "    <tr>\n",
       "      <th>1</th>\n",
       "      <td>Shubham</td>\n",
       "      <td>2</td>\n",
       "      <td>1</td>\n",
       "    </tr>\n",
       "    <tr>\n",
       "      <th>2</th>\n",
       "      <td>Ashish</td>\n",
       "      <td>1</td>\n",
       "      <td>1</td>\n",
       "    </tr>\n",
       "    <tr>\n",
       "      <th>3</th>\n",
       "      <td>Hitesh</td>\n",
       "      <td>2</td>\n",
       "      <td>2</td>\n",
       "    </tr>\n",
       "    <tr>\n",
       "      <th>4</th>\n",
       "      <td>Agniva</td>\n",
       "      <td>0</td>\n",
       "      <td>1</td>\n",
       "    </tr>\n",
       "    <tr>\n",
       "      <th>5</th>\n",
       "      <td>Joy</td>\n",
       "      <td>0</td>\n",
       "      <td>2</td>\n",
       "    </tr>\n",
       "    <tr>\n",
       "      <th>6</th>\n",
       "      <td>Sumit</td>\n",
       "      <td>1</td>\n",
       "      <td>2</td>\n",
       "    </tr>\n",
       "    <tr>\n",
       "      <th>7</th>\n",
       "      <td>Kuldeep</td>\n",
       "      <td>1</td>\n",
       "      <td>0</td>\n",
       "    </tr>\n",
       "    <tr>\n",
       "      <th>8</th>\n",
       "      <td>Chinmay</td>\n",
       "      <td>2</td>\n",
       "      <td>2</td>\n",
       "    </tr>\n",
       "    <tr>\n",
       "      <th>9</th>\n",
       "      <td>Satya</td>\n",
       "      <td>1</td>\n",
       "      <td>0</td>\n",
       "    </tr>\n",
       "  </tbody>\n",
       "</table>\n",
       "</div>"
      ],
      "text/plain": [
       "       Name  Proficiency  Skills\n",
       "0  Kushagra            0       0\n",
       "1   Shubham            2       1\n",
       "2    Ashish            1       1\n",
       "3    Hitesh            2       2\n",
       "4    Agniva            0       1\n",
       "5       Joy            0       2\n",
       "6     Sumit            1       2\n",
       "7   Kuldeep            1       0\n",
       "8   Chinmay            2       2\n",
       "9     Satya            1       0"
      ]
     },
     "execution_count": 7,
     "metadata": {},
     "output_type": "execute_result"
    }
   ],
   "source": [
    "df"
   ]
  },
  {
   "cell_type": "markdown",
   "id": "b535f36c",
   "metadata": {},
   "source": [
    "Now you can see that, String data have been transformed to the numeric data based on the levels. The values have been assigned from 0 to 2."
   ]
  }
 ],
 "metadata": {
  "kernelspec": {
   "display_name": "Python 3 (ipykernel)",
   "language": "python",
   "name": "python3"
  },
  "language_info": {
   "codemirror_mode": {
    "name": "ipython",
    "version": 3
   },
   "file_extension": ".py",
   "mimetype": "text/x-python",
   "name": "python",
   "nbconvert_exporter": "python",
   "pygments_lexer": "ipython3",
   "version": "3.9.7"
  }
 },
 "nbformat": 4,
 "nbformat_minor": 5
}
